{
 "cells": [
  {
   "cell_type": "markdown",
   "metadata": {},
   "source": [
    "Here's an example of some 'to-the-next-level' functions in Python and Jupyter."
   ]
  },
  {
   "cell_type": "code",
   "execution_count": 1,
   "metadata": {
    "collapsed": false
   },
   "outputs": [],
   "source": [
    "#This is a code cell. Use a hashtag for comments!\n",
    "x = 3\n",
    "2 + 2\n",
    "def multiplication(x,y):\n",
    "    z = 3\n",
    "    return x*y"
   ]
  },
  {
   "cell_type": "markdown",
   "metadata": {},
   "source": [
    "double-click me to see text cells\n",
    "\n",
    "this is a text\n",
    "\n",
    "\n",
    "# this is a header"
   ]
  },
  {
   "cell_type": "markdown",
   "metadata": {},
   "source": [
    "If you use a % before a command, it will be special to Jupyter. They are called \"magics\". \n",
    "\n",
    "You can learn about them more below:\n",
    "\n",
    "http://jupyter.cs.brynmawr.edu/hub/dblank/public/Jupyter%20Magics.ipynb\n",
    "\n",
    "http://blog.dominodatalab.com/lesser-known-ways-of-using-notebooks/"
   ]
  },
  {
   "cell_type": "markdown",
   "metadata": {},
   "source": [
    "'%whos' gives you all the variables in the namespace."
   ]
  },
  {
   "cell_type": "code",
   "execution_count": 2,
   "metadata": {
    "collapsed": false,
    "scrolled": true
   },
   "outputs": [
    {
     "name": "stdout",
     "output_type": "stream",
     "text": [
      "Variable         Type        Data/Info\n",
      "--------------------------------------\n",
      "multiplication   function    <function multiplication at 0x0000003F2CDF1E18>\n",
      "x                int         3\n"
     ]
    }
   ],
   "source": [
    "%whos"
   ]
  },
  {
   "cell_type": "markdown",
   "metadata": {},
   "source": [
    "You can turn anything into a string."
   ]
  },
  {
   "cell_type": "code",
   "execution_count": 3,
   "metadata": {
    "collapsed": false
   },
   "outputs": [
    {
     "data": {
      "text/plain": [
       "'[1, 2, 3]'"
      ]
     },
     "execution_count": 3,
     "metadata": {},
     "output_type": "execute_result"
    }
   ],
   "source": [
    "str([1,2,3])"
   ]
  },
  {
   "cell_type": "markdown",
   "metadata": {},
   "source": [
    "Here's how to import libraries! (If this doesn't work, try typing ```conda install numpy``` at the Command Prompt or Terminal.)"
   ]
  },
  {
   "cell_type": "code",
   "execution_count": 4,
   "metadata": {
    "collapsed": true
   },
   "outputs": [],
   "source": [
    "import numpy"
   ]
  },
  {
   "cell_type": "markdown",
   "metadata": {},
   "source": [
    "They come with pre-written functions, depending on the library."
   ]
  },
  {
   "cell_type": "code",
   "execution_count": 5,
   "metadata": {
    "collapsed": false
   },
   "outputs": [
    {
     "data": {
      "text/plain": [
       "1.0"
      ]
     },
     "execution_count": 5,
     "metadata": {},
     "output_type": "execute_result"
    }
   ],
   "source": [
    "numpy.cos(0)"
   ]
  },
  {
   "cell_type": "markdown",
   "metadata": {},
   "source": [
    "Guido Van Rossum's designing philosophies of Python are hidden in a secret poem here:"
   ]
  },
  {
   "cell_type": "code",
   "execution_count": 6,
   "metadata": {
    "collapsed": false
   },
   "outputs": [
    {
     "name": "stdout",
     "output_type": "stream",
     "text": [
      "The Zen of Python, by Tim Peters\n",
      "\n",
      "Beautiful is better than ugly.\n",
      "Explicit is better than implicit.\n",
      "Simple is better than complex.\n",
      "Complex is better than complicated.\n",
      "Flat is better than nested.\n",
      "Sparse is better than dense.\n",
      "Readability counts.\n",
      "Special cases aren't special enough to break the rules.\n",
      "Although practicality beats purity.\n",
      "Errors should never pass silently.\n",
      "Unless explicitly silenced.\n",
      "In the face of ambiguity, refuse the temptation to guess.\n",
      "There should be one-- and preferably only one --obvious way to do it.\n",
      "Although that way may not be obvious at first unless you're Dutch.\n",
      "Now is better than never.\n",
      "Although never is often better than *right* now.\n",
      "If the implementation is hard to explain, it's a bad idea.\n",
      "If the implementation is easy to explain, it may be a good idea.\n",
      "Namespaces are one honking great idea -- let's do more of those!\n"
     ]
    }
   ],
   "source": [
    "import this"
   ]
  },
  {
   "cell_type": "markdown",
   "metadata": {},
   "source": [
    "These are strings! This is the \"type\" that Python understands for text."
   ]
  },
  {
   "cell_type": "code",
   "execution_count": 7,
   "metadata": {
    "collapsed": true
   },
   "outputs": [],
   "source": [
    "my_string = \"hello world\""
   ]
  },
  {
   "cell_type": "markdown",
   "metadata": {},
   "source": [
    "Certain functions only work on strings --- because they only make sense for strings! "
   ]
  },
  {
   "cell_type": "code",
   "execution_count": 8,
   "metadata": {
    "collapsed": false
   },
   "outputs": [
    {
     "data": {
      "text/plain": [
       "True"
      ]
     },
     "execution_count": 8,
     "metadata": {},
     "output_type": "execute_result"
    }
   ],
   "source": [
    "my_string.islower()"
   ]
  },
  {
   "cell_type": "code",
   "execution_count": 9,
   "metadata": {
    "collapsed": false,
    "scrolled": true
   },
   "outputs": [
    {
     "data": {
      "text/plain": [
       "str"
      ]
     },
     "execution_count": 9,
     "metadata": {},
     "output_type": "execute_result"
    }
   ],
   "source": [
    "type(my_string)"
   ]
  },
  {
   "cell_type": "markdown",
   "metadata": {},
   "source": [
    "Lists are a different \"type\" of thing. "
   ]
  },
  {
   "cell_type": "code",
   "execution_count": 10,
   "metadata": {
    "collapsed": false
   },
   "outputs": [],
   "source": [
    "my_list = [1,3,\"a\",42,\"hello\"]"
   ]
  },
  {
   "cell_type": "code",
   "execution_count": 11,
   "metadata": {
    "collapsed": false,
    "scrolled": true
   },
   "outputs": [
    {
     "data": {
      "text/plain": [
       "list"
      ]
     },
     "execution_count": 11,
     "metadata": {},
     "output_type": "execute_result"
    }
   ],
   "source": [
    "type(my_list)"
   ]
  },
  {
   "cell_type": "markdown",
   "metadata": {},
   "source": [
    "\"Loops\" can go over each element in the list, and do things systematically. Indentation matters!"
   ]
  },
  {
   "cell_type": "code",
   "execution_count": 12,
   "metadata": {
    "collapsed": false
   },
   "outputs": [
    {
     "name": "stdout",
     "output_type": "stream",
     "text": [
      "1\n",
      "3\n",
      "a\n",
      "42\n",
      "hello\n"
     ]
    }
   ],
   "source": [
    "for element in my_list:\n",
    "    #do stuff here\n",
    "    print(element)"
   ]
  },
  {
   "cell_type": "markdown",
   "metadata": {},
   "source": [
    "Let's check our namespace with %whos"
   ]
  },
  {
   "cell_type": "code",
   "execution_count": 13,
   "metadata": {
    "collapsed": false
   },
   "outputs": [
    {
     "name": "stdout",
     "output_type": "stream",
     "text": [
      "Variable         Type        Data/Info\n",
      "--------------------------------------\n",
      "element          str         hello\n",
      "multiplication   function    <function multiplication at 0x0000003F2CDF1E18>\n",
      "my_list          list        n=5\n",
      "my_string        str         hello world\n",
      "numpy            module      <module 'numpy' from 'C:\\<...>ges\\\\numpy\\\\__init__.py'>\n",
      "this             module      <module 'this' from 'C:\\\\<...>envs\\\\py3\\\\lib\\\\this.py'>\n",
      "x                int         3\n"
     ]
    }
   ],
   "source": [
    "%whos"
   ]
  },
  {
   "cell_type": "markdown",
   "metadata": {},
   "source": [
    "This magic is useful to make plotting happen in-line."
   ]
  },
  {
   "cell_type": "code",
   "execution_count": 14,
   "metadata": {
    "collapsed": true
   },
   "outputs": [],
   "source": [
    "%matplotlib inline"
   ]
  },
  {
   "cell_type": "markdown",
   "metadata": {},
   "source": [
    "If you look at http://matplotlib.org/gallery.html, you'll find a collection of different plotting examples. If you click on an image you like, then right-click on the link to \"Source code\", and copy the link address, then you can put the code in your Jupyter notebook quickly:"
   ]
  },
  {
   "cell_type": "code",
   "execution_count": 15,
   "metadata": {
    "collapsed": true
   },
   "outputs": [],
   "source": [
    "#use %load then paste the link"
   ]
  },
  {
   "cell_type": "code",
   "execution_count": null,
   "metadata": {
    "collapsed": true
   },
   "outputs": [],
   "source": [
    "% load http://matplotlib.org/mpl_examples/statistics/errorbar_limits.py"
   ]
  },
  {
   "cell_type": "markdown",
   "metadata": {},
   "source": [
    "Running the above block will turn into something like the below block."
   ]
  },
  {
   "cell_type": "code",
   "execution_count": 17,
   "metadata": {
    "collapsed": false
   },
   "outputs": [
    {
     "data": {
      "image/png": "[encoded data removed]",
      "text/plain": [
       "<matplotlib.figure.Figure at 0x3f2ed90128>"
      ]
     },
     "metadata": {},
     "output_type": "display_data"
    }
   ],
   "source": [
    "# %load http://matplotlib.org/mpl_examples/statistics/errorbar_limits.py\n",
    "\"\"\"\n",
    "Demo of the errorbar function, including upper and lower limits\n",
    "\"\"\"\n",
    "import numpy as np\n",
    "import matplotlib.pyplot as plt\n",
    "\n",
    "# example data\n",
    "x = np.arange(0.5, 5.5, 0.5)\n",
    "y = np.exp(-x)\n",
    "xerr = 0.1\n",
    "yerr = 0.2\n",
    "ls = 'dotted'\n",
    "\n",
    "fig = plt.figure()\n",
    "ax = fig.add_subplot(1, 1, 1)\n",
    "\n",
    "# standard error bars\n",
    "plt.errorbar(x, y, xerr=xerr, yerr=yerr, ls=ls, color='blue')\n",
    "\n",
    "# including upper limits\n",
    "uplims = np.zeros(x.shape)\n",
    "uplims[[1, 5, 9]] = True\n",
    "plt.errorbar(x, y + 0.5, xerr=xerr, yerr=yerr, uplims=uplims, ls=ls,\n",
    "             color='green')\n",
    "\n",
    "# including lower limits\n",
    "lolims = np.zeros(x.shape)\n",
    "lolims[[2, 4, 8]] = True\n",
    "plt.errorbar(x, y + 1.0, xerr=xerr, yerr=yerr, lolims=lolims, ls=ls,\n",
    "             color='red')\n",
    "\n",
    "# including upper and lower limits\n",
    "plt.errorbar(x, y + 1.5, marker='o', ms=8, xerr=xerr, yerr=yerr,\n",
    "             lolims=lolims, uplims=uplims, ls=ls, color='magenta')\n",
    "\n",
    "# including xlower and xupper limits\n",
    "xerr = 0.2\n",
    "yerr = np.zeros(x.shape) + 0.2\n",
    "yerr[[3, 6]] = 0.3\n",
    "xlolims = lolims\n",
    "xuplims = uplims\n",
    "lolims = np.zeros(x.shape)\n",
    "uplims = np.zeros(x.shape)\n",
    "lolims[[6]] = True\n",
    "uplims[[3]] = True\n",
    "plt.errorbar(x, y + 2.1, marker='o', ms=8, xerr=xerr, yerr=yerr,\n",
    "             xlolims=xlolims, xuplims=xuplims, uplims=uplims, lolims=lolims,\n",
    "             ls='none', mec='blue', capsize=0, color='cyan')\n",
    "\n",
    "ax.set_xlim((0, 5.5))\n",
    "ax.set_title('Errorbar upper and lower limits')\n",
    "plt.show()\n"
   ]
  },
  {
   "cell_type": "markdown",
   "metadata": {},
   "source": [
    "Here's another example, that you can run yourself."
   ]
  },
  {
   "cell_type": "code",
   "execution_count": null,
   "metadata": {
    "collapsed": true
   },
   "outputs": [],
   "source": [
    "%load http://matplotlib.org/mpl_examples/lines_bars_and_markers/barh_demo.py"
   ]
  }
 ],
 "metadata": {
  "kernelspec": {
   "display_name": "Python 3",
   "language": "python",
   "name": "python3"
  },
  "language_info": {
   "codemirror_mode": {
    "name": "ipython",
    "version": 3
   },
   "file_extension": ".py",
   "mimetype": "text/x-python",
   "name": "python",
   "nbconvert_exporter": "python",
   "pygments_lexer": "ipython3",
   "version": "3.5.1"
  }
 },
 "nbformat": 4,
 "nbformat_minor": 0
}
