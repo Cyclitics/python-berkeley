{
 "cells": [
  {
   "cell_type": "markdown",
   "metadata": {},
   "source": [
    "# File Handling"
   ]
  },
  {
   "cell_type": "markdown",
   "metadata": {},
   "source": [
    "Today we will learn about how to read from and write to files on your computer using a Python script! Credit to Rochelle Terman"
   ]
  },
  {
   "cell_type": "code",
   "execution_count": 1,
   "metadata": {
    "collapsed": true
   },
   "outputs": [],
   "source": [
    "## Import required libraries\n",
    "import tweepy\n",
    "import json"
   ]
  },
  {
   "cell_type": "markdown",
   "metadata": {},
   "source": [
    "### Reading from a file\n",
    "\n",
    "Reading a file requires three steps:\n",
    "\n",
    "1. Opening the file\n",
    "2. Reading the file\n",
    "3. Closing the file"
   ]
  },
  {
   "cell_type": "markdown",
   "metadata": {},
   "source": [
    "An exclamation point `!` puts you in [bash](https://en.wikipedia.org/wiki/Bash_(Unix_shell). The `touch` command creates a file. You use it by including an argument which is the name of the file you create."
   ]
  },
  {
   "cell_type": "code",
   "execution_count": 5,
   "metadata": {
    "collapsed": true
   },
   "outputs": [],
   "source": [
    "!touch sample.txt"
   ]
  },
  {
   "cell_type": "code",
   "execution_count": 6,
   "metadata": {
    "collapsed": false
   },
   "outputs": [
    {
     "name": "stdout",
     "output_type": "stream",
     "text": [
      "----\n",
      "0\n"
     ]
    }
   ],
   "source": [
    "my_file = open(\"sample.txt\", \"r\")\n",
    "text = my_file.read()\n",
    "my_file.close()\n",
    "\n",
    "print(\"--\" + text + \"--\")\n",
    "print(len(text))"
   ]
  },
  {
   "cell_type": "markdown",
   "metadata": {},
   "source": [
    "We see that when we create a new file using bash, it's empty. Let's try reading from a file with text in it; for example, `example.txt`.\n",
    "\n",
    "After we read from the file, we must be sure to close it. If we fail to close the file, this can lead to security or data integrity problems within the program.\n",
    "\n",
    "(Also note that \"\\n\" is a new line character in Python)"
   ]
  },
  {
   "cell_type": "code",
   "execution_count": 7,
   "metadata": {
    "collapsed": false
   },
   "outputs": [
    {
     "name": "stdout",
     "output_type": "stream",
     "text": [
      "--\n",
      "This is line 1.\n",
      "This is line 2.\n",
      "This is line 3.\n",
      "This is line 4.\n",
      "This is line 5.\n",
      "--\n",
      "80\n"
     ]
    }
   ],
   "source": [
    "my_file = open(\"example.txt\", \"r\")\n",
    "text = my_file.read()\n",
    "my_file.close()\n",
    "\n",
    "print(\"--\\n\" + text + \"--\")\n",
    "print(len(text))"
   ]
  },
  {
   "cell_type": "markdown",
   "metadata": {},
   "source": [
    "However, if you use the `with open` syntax, the program will automatically close files for you. The `'r'` indicates that you are reading the file, as opposed to, say, writing to it. If we don't include the `r/w` argument, the `with` command will default to read only permissions."
   ]
  },
  {
   "cell_type": "code",
   "execution_count": 9,
   "metadata": {
    "collapsed": false
   },
   "outputs": [
    {
     "name": "stdout",
     "output_type": "stream",
     "text": [
      "--\n",
      "This is line 1.\n",
      "This is line 2.\n",
      "This is line 3.\n",
      "This is line 4.\n",
      "This is line 5.\n",
      "--\n",
      "80\n"
     ]
    }
   ],
   "source": [
    "# better code\n",
    "with open('example.txt', 'r') as my_file:\n",
    "    text = my_file.read()\n",
    "# my_file.read()\n",
    "print(\"--\\n\" + text + \"--\")\n",
    "print(len(text))"
   ]
  },
  {
   "cell_type": "markdown",
   "metadata": {},
   "source": [
    "The `with` function will keep the file open as long as the program is still in the indented block. Once outside, the file is no longer open, and you can't access the contents. You can only access what you have saved to a variable."
   ]
  },
  {
   "cell_type": "markdown",
   "metadata": {},
   "source": [
    "### Reading a file as a list\n",
    "\n",
    "Often times, we want to read in a file line by line, storing those lines as a list. To do that, Python has a command that looks very much like the English translation: we simply say `for line in my_file`."
   ]
  },
  {
   "cell_type": "code",
   "execution_count": 10,
   "metadata": {
    "collapsed": false
   },
   "outputs": [],
   "source": [
    "stored = []\n",
    "with open('example.txt', 'r') as my_file:\n",
    "    for line in my_file:\n",
    "        stored.append(line)"
   ]
  },
  {
   "cell_type": "code",
   "execution_count": 11,
   "metadata": {
    "collapsed": false
   },
   "outputs": [
    {
     "data": {
      "text/plain": [
       "['This is line 1.\\n',\n",
       " 'This is line 2.\\n',\n",
       " 'This is line 3.\\n',\n",
       " 'This is line 4.\\n',\n",
       " 'This is line 5.\\n']"
      ]
     },
     "execution_count": 11,
     "metadata": {},
     "output_type": "execute_result"
    }
   ],
   "source": [
    "stored"
   ]
  },
  {
   "cell_type": "markdown",
   "metadata": {},
   "source": [
    "As we learned in the Python review, we can use the String `strip` [method](https://github.com/dlab-berkeley/python-intensive/blob/master/Glossary.md#method) to get rid of those newline breaks at the end of each line."
   ]
  },
  {
   "cell_type": "code",
   "execution_count": 18,
   "metadata": {
    "collapsed": false
   },
   "outputs": [],
   "source": [
    "stored = []\n",
    "with open('example.txt', 'r') as my_file:\n",
    "    for line in my_file:\n",
    "        stored.append(line.strip())"
   ]
  },
  {
   "cell_type": "code",
   "execution_count": 15,
   "metadata": {
    "collapsed": false
   },
   "outputs": [
    {
     "data": {
      "text/plain": [
       "['This is line 5.',\n",
       " 'This is line 5.',\n",
       " 'This is line 5.',\n",
       " 'This is line 5.',\n",
       " 'This is line 5.']"
      ]
     },
     "execution_count": 15,
     "metadata": {},
     "output_type": "execute_result"
    }
   ],
   "source": [
    "stored"
   ]
  },
  {
   "cell_type": "markdown",
   "metadata": {},
   "source": [
    "### Writing to a file\n",
    "\n",
    "We can use the same `with open` syntax for writing files as well."
   ]
  },
  {
   "cell_type": "code",
   "execution_count": 19,
   "metadata": {
    "collapsed": true
   },
   "outputs": [],
   "source": [
    "# this is okay...\n",
    "new_file = open(\"example2.txt\", \"w\")\n",
    "bees = ['bears', 'beets', 'Battlestar Galactica']\n",
    "for i in bees:\n",
    "    new_file.write(i + '\\n')\n",
    "new_file.close()"
   ]
  },
  {
   "cell_type": "markdown",
   "metadata": {},
   "source": [
    "Another useful bash command is `cat`, which requires a single parameter filename. When you run `cat filename`, the contents of the file named `filename` will be printed out."
   ]
  },
  {
   "cell_type": "code",
   "execution_count": 20,
   "metadata": {
    "collapsed": false
   },
   "outputs": [
    {
     "name": "stdout",
     "output_type": "stream",
     "text": [
      "bears\r\n",
      "beets\r\n",
      "Battlestar Galactica\r\n"
     ]
    }
   ],
   "source": [
    "!cat example2.txt"
   ]
  },
  {
   "cell_type": "code",
   "execution_count": 21,
   "metadata": {
    "collapsed": true
   },
   "outputs": [],
   "source": [
    "# but this is better...\n",
    "bees = ['bears', 'beets', 'Battlestar Galactica']\n",
    "with open('example2.txt', 'w') as new_file:\n",
    "    for i in bees:\n",
    "        new_file.write(i + '\\n')"
   ]
  },
  {
   "cell_type": "code",
   "execution_count": 22,
   "metadata": {
    "collapsed": false
   },
   "outputs": [
    {
     "name": "stdout",
     "output_type": "stream",
     "text": [
      "bears\r\n",
      "beets\r\n",
      "Battlestar Galactica\r\n"
     ]
    }
   ],
   "source": [
    "!cat example2.txt"
   ]
  },
  {
   "cell_type": "markdown",
   "metadata": {},
   "source": [
    "### Using the CSV Module\n",
    "\n",
    "It is often useful to have the results of a computer program output to a CSV file. Python has already built out a `csv` module, which makes this process easy. Also note that in Python, a csv is usually read as a list of dictionaries."
   ]
  },
  {
   "cell_type": "code",
   "execution_count": 23,
   "metadata": {
    "collapsed": true
   },
   "outputs": [],
   "source": [
    "import csv"
   ]
  },
  {
   "cell_type": "code",
   "execution_count": 24,
   "metadata": {
    "collapsed": false
   },
   "outputs": [],
   "source": [
    "# read csv and write into np arrays\n",
    "capitals = [] # make empty list\n",
    "with open('capitals.csv', 'r') as csvfile: # open file\n",
    "    reader = csv.DictReader(csvfile) # create a reader\n",
    "    for row in reader: # loop through rows\n",
    "        capitals.append(row)"
   ]
  },
  {
   "cell_type": "code",
   "execution_count": 25,
   "metadata": {
    "collapsed": false
   },
   "outputs": [
    {
     "data": {
      "text/plain": [
       "[{'Capital': 'Kabul',\n",
       "  'Country': 'Afghanistan',\n",
       "  'Latitude': \"34¡28'N\",\n",
       "  'Longitude': \"69¡11'E\"},\n",
       " {'Capital': 'Tirane',\n",
       "  'Country': 'Albania',\n",
       "  'Latitude': \"41¡18'N\",\n",
       "  'Longitude': \"19¡49'E\"},\n",
       " {'Capital': 'Algiers',\n",
       "  'Country': 'Algeria',\n",
       "  'Latitude': \"36¡42'N\",\n",
       "  'Longitude': \"03¡08'E\"},\n",
       " {'Capital': 'Pago Pago',\n",
       "  'Country': 'American Samoa',\n",
       "  'Latitude': \"14¡16'S\",\n",
       "  'Longitude': \"170¡43'W\"},\n",
       " {'Capital': 'Andorra la Vella',\n",
       "  'Country': 'Andorra',\n",
       "  'Latitude': \"42¡31'N\",\n",
       "  'Longitude': \"01¡32'E\"}]"
      ]
     },
     "execution_count": 25,
     "metadata": {},
     "output_type": "execute_result"
    }
   ],
   "source": [
    "capitals[:5]"
   ]
  },
  {
   "cell_type": "markdown",
   "metadata": {},
   "source": [
    "Writing a list of dictionaries to a CSV file is similar:"
   ]
  },
  {
   "cell_type": "code",
   "execution_count": 26,
   "metadata": {
    "collapsed": false
   },
   "outputs": [
    {
     "name": "stdout",
     "output_type": "stream",
     "text": [
      "200\n"
     ]
    }
   ],
   "source": [
    "print(len(capitals))"
   ]
  },
  {
   "cell_type": "code",
   "execution_count": 27,
   "metadata": {
    "collapsed": false
   },
   "outputs": [
    {
     "name": "stdout",
     "output_type": "stream",
     "text": [
      "dict_keys(['Longitude', 'Capital', 'Latitude', 'Country'])\n",
      "['Longitude', 'Capital', 'Latitude', 'Country']\n"
     ]
    }
   ],
   "source": [
    "# get the keys in each dictionary\n",
    "keys = capitals[1].keys()\n",
    "print(keys)\n",
    "# convert the data type to a list\n",
    "keys = list(keys)\n",
    "print(keys)"
   ]
  },
  {
   "cell_type": "code",
   "execution_count": 28,
   "metadata": {
    "collapsed": false
   },
   "outputs": [],
   "source": [
    "# write rows\n",
    "with open('capitals2.csv', 'w') as output_file:\n",
    "    dict_writer = csv.DictWriter(output_file, ['Country', 'Capital', 'Latitude', 'Longitude'])\n",
    "    dict_writer.writeheader()\n",
    "    dict_writer.writerows(capitals)"
   ]
  },
  {
   "cell_type": "markdown",
   "metadata": {},
   "source": [
    "### Challenge 1: Read in a list\n",
    "\n",
    "The file `counties.txt` has a column of counties in California. Read in the data into a list called `counties`."
   ]
  },
  {
   "cell_type": "code",
   "execution_count": 31,
   "metadata": {
    "collapsed": false
   },
   "outputs": [
    {
     "name": "stdout",
     "output_type": "stream",
     "text": [
      "['Alameda', 'Alpine', 'Amador', 'Butte', 'Calaveras', 'Colusa', 'Contra Costa', 'Del Norte', 'El Dorado', 'Fresno', 'Glenn', 'Humboldt', 'Imperial', 'Inyo', 'Kern', 'Kings', 'Lake', 'Lassen', 'Los Angeles', 'Madera', 'Marin', 'Mariposa', 'Mendocino', 'Merced', 'Modoc', 'Mono', 'Monterey', 'Napa', 'Nevada', 'Orange', 'Placer', 'Plumas', 'Riverside', 'Sacramento', 'San Benito', 'San Bernardino', 'San Diego', 'San Francisco', 'San Joaquin', 'San Luis Obispo', 'San Mateo', 'Santa Barbara', 'Santa Clara', 'Santa Cruz', 'Shasta', 'Sierra', 'Siskiyou', 'Solano', 'Sonoma', 'Stanislaus', 'Sutter', 'Tehama', 'Trinity', 'Tulare', 'Tuolumne', 'Ventura', 'Yolo', 'Yuba']\n",
      "58\n"
     ]
    }
   ],
   "source": [
    "counties_lst = []\n",
    "with open('counties.txt', 'r') as counties:\n",
    "    for line in counties:\n",
    "        counties_lst.append(line.strip())\n",
    "\n",
    "print(counties_lst)\n",
    "print(len(counties_lst))"
   ]
  },
  {
   "cell_type": "markdown",
   "metadata": {},
   "source": [
    "### Challenge 2: Writing a CSV file\n",
    "\n",
    "Below is a list of dictionaries representing US states. Write this [object](https://github.com/dlab-berkeley/python-intensive/blob/master/Glossary.md#object) as a CSV file called `states.csv`"
   ]
  },
  {
   "cell_type": "code",
   "execution_count": 33,
   "metadata": {
    "collapsed": true
   },
   "outputs": [],
   "source": [
    "states = [{'state': 'Ohio', 'population': 11.6, 'year in union': 1803, 'state bird': 'Northern cardinal', 'capital': 'Columbus'},\n",
    "          {'state': 'Michigan', 'population': 9.9, 'year in union': 1837, 'capital': 'Lansing'},\n",
    "          {'state': 'California', 'population': 39.1, 'year in union': 1850, 'state bird': 'California quail', 'capital': 'Sacramento'},\n",
    "          {'state': 'Florida', 'population': 20.2, 'year in union': 1834, 'capital': 'Tallahassee'},\n",
    "          {'state': 'Alabama', 'population': 4.9, 'year in union': 1819, 'capital': 'Montgomery'}]"
   ]
  },
  {
   "cell_type": "code",
   "execution_count": 36,
   "metadata": {
    "collapsed": false
   },
   "outputs": [
    {
     "name": "stdout",
     "output_type": "stream",
     "text": [
      "['state bird', 'year in union', 'population', 'state', 'capital']\n"
     ]
    }
   ],
   "source": [
    "keys = []\n",
    "\n",
    "# get a comprehensive list of keys, since not all states have all keys\n",
    "for state in states:\n",
    "    for key in state.keys():\n",
    "        if key not in keys:\n",
    "            keys.append(key)\n",
    "\n",
    "print(keys)\n",
    "\n",
    "with open('states.csv', 'w') as csv_file:\n",
    "    dict_write = csv.DictWriter(csv_file, keys)\n",
    "    dict_write.writeheader()\n",
    "    dict_write.writerows(states)"
   ]
  },
  {
   "cell_type": "markdown",
   "metadata": {},
   "source": [
    "### Challenge 3: Write CSV Data to a Numpy array"
   ]
  },
  {
   "cell_type": "code",
   "execution_count": 40,
   "metadata": {
    "collapsed": true
   },
   "outputs": [],
   "source": [
    "\"\"\"\n",
    "From last week: As we saw on the website, the 14 attributes used in the\n",
    "published experiment are as follows. We will use these fields to retrieve\n",
    "data from the CSV file, and write them into a list of Numpy arrays.\n",
    "\"\"\"\n",
    "fields = [\"age\", \"sex\", \"chest_pain_type\", \"rest_blood_pressure\",\n",
    "          \"cholestoral\", \"fasting_blood_sugar\",\"rest_ecg\", \"max_hr\",\n",
    "          \"ex_ang\", \"oldpeak\", \"slope\", \"ca\", \"thal\", \"num\"]"
   ]
  },
  {
   "cell_type": "code",
   "execution_count": 46,
   "metadata": {
    "collapsed": false
   },
   "outputs": [
    {
     "name": "stdout",
     "output_type": "stream",
     "text": [
      "[['63' '1' '1' ..., '0' '6' '0']\n",
      " ['67' '1' '4' ..., '3' '3' '2']\n",
      " ['67' '1' '4' ..., '2' '7' '1']\n",
      " ..., \n",
      " ['57' '1' '4' ..., '1' '7' '3']\n",
      " ['57' '0' '2' ..., '1' '3' '1']\n",
      " ['38' '1' '3' ..., '0' '3' '0']]\n"
     ]
    }
   ],
   "source": [
    "import numpy as np\n",
    "\n",
    "\"\"\"\n",
    "As we saw last week, in order to construct an array, we first create a\n",
    "list and then use the Numpy np.array(lst) constructor. Now we will\n",
    "apply this technique to construct a multidimensional array, or matrix.\n",
    "\n",
    "Use the Python CSV library to read from the CSV data file. Once you\n",
    "read the data into a list, construct an array that has one row of\n",
    "values. We add each row to a list, and then create a matrix or array of\n",
    "arrays from that list.\n",
    "\"\"\"\n",
    "# for each row, create an array of values corresponding to the fields\n",
    "arrays = []\n",
    "\n",
    "from numpy import genfromtxt\n",
    "arrays_2 = genfromtxt('processed_cleveland_data.csv', delimiter=',')\n",
    "\n",
    "with open('processed_cleveland_data.csv', 'r') as my_file:\n",
    "    reader = csv.DictReader(my_file, fields)\n",
    "    for row in reader:\n",
    "        lst = []\n",
    "        for field in fields:\n",
    "            value = row[field]\n",
    "            if value == \"?\":\n",
    "                value = 0\n",
    "            lst.append(value)\n",
    "        arr = np.array(lst)\n",
    "        arrays.append(arr)\n",
    "# note that some values are ommitted from the dataset, so you might run\n",
    "# into errors\n",
    "\n",
    "# print(arrays)\n",
    "matrix = np.array(arrays)\n",
    "print(matrix)"
   ]
  },
  {
   "cell_type": "code",
   "execution_count": null,
   "metadata": {
    "collapsed": true
   },
   "outputs": [],
   "source": [
    "\"\"\"\n",
    "For extra practice on the stuff we learned last week, try to transpose the\n",
    "array and find the average age of the heart disease patients from the study.\n",
    "\"\"\"\n",
    "\n",
    "# numpy stuff"
   ]
  },
  {
   "cell_type": "markdown",
   "metadata": {},
   "source": [
    "###Challenge 4: Writing Twitter API data to a CSV"
   ]
  },
  {
   "cell_type": "markdown",
   "metadata": {},
   "source": [
    "We will learn (probably next week) about how to use APIs to get both data and functionality from other websites. Below, we initialize some variables necessary to use the Twitter API. The details will be explained next week."
   ]
  },
  {
   "cell_type": "code",
   "execution_count": null,
   "metadata": {
    "collapsed": true
   },
   "outputs": [],
   "source": [
    "## Our access key, mentioned above\n",
    "consumer_key = 'Q8kC59z8t8T7CCtIErEGFzAce'\n",
    "## Our signature, also given upon app creation\n",
    "consumer_secret = '24bbPpWfjjDKpp0DpIhsBj4q8tUhPQ3DoAf2UWFoN4NxIJ19Ja'\n",
    "## Our access token, generated upon request\n",
    "access_token = '719722984693448704-lGVe8IEmjzpd8RZrCBoYSMug5uoqUkP'\n",
    "## Our secret access token, also generated upon request\n",
    "access_token_secret = 'LrdtfdFSKc3gbRFiFNJ1wZXQNYEVlOobsEGffRECWpLNG'\n",
    "\n",
    "## Set of Tweepy authorization commands\n",
    "auth = tweepy.OAuthHandler(consumer_key, consumer_secret)\n",
    "auth.set_access_token(access_token, access_token_secret)\n",
    "api = tweepy.API(auth)"
   ]
  },
  {
   "cell_type": "markdown",
   "metadata": {},
   "source": [
    "Now we make a query string using URL formatting (also coming next week!), and we send it to Twitter to retrieve data about Hillary Clinton and Donald Trump. The query will return a list of Twitter statuses, each of which has data that we will write to the CSV."
   ]
  },
  {
   "cell_type": "code",
   "execution_count": null,
   "metadata": {
    "collapsed": true
   },
   "outputs": [],
   "source": [
    "# Search for tweets containing a positive attitude to 'hillary' or\n",
    "# 'clinton' since October 1st\n",
    "query1 = \"hillary%20OR%20clinton%20%3A%29\"\n",
    "\n",
    "# Search for tweets containing a positive attitude to 'donald' or\n",
    "# 'trump' since October 1st\n",
    "query2 = \"donald%20OR%20trump%20%3A%29\"\n",
    "\n",
    "results1 = api.search(q=query1)\n",
    "results2 = api.search(q=query2)"
   ]
  },
  {
   "cell_type": "markdown",
   "metadata": {},
   "source": [
    "*Remember*: in order to write a set of dictionaries to a CSV file, we will need a list of **all** keys found in any of the dictionaries, and a list of the dictionaries."
   ]
  },
  {
   "cell_type": "code",
   "execution_count": null,
   "metadata": {
    "collapsed": false
   },
   "outputs": [],
   "source": [
    "'''\n",
    "Things to know:\n",
    "- results1 and results2 are lists\n",
    "- Each item in lists results1 and results2 is a Twitter status object, which\n",
    "  has a _json attribute\n",
    "- This _json attribute can be accessed from the status using \"dot notation\"\n",
    "- This _json attribute can be used as a dictionary\n",
    "- We also need a list of keys *without duplicates* in order to write to a\n",
    "  CSV file\n",
    "'''\n",
    "\n",
    "# Your variables here are:\n",
    "## \"keys1\": a list of keys for the first set of statuses\n",
    "## \"lst_1\": a list of _json dictionary objects\n",
    "keys1 = []\n",
    "lst_1 = []\n",
    "\n",
    "for status in results1:\n",
    "    dictionary = status._json # access this using dot notation!\n",
    "    lst_1.append(dictionary) # function for adding to a list\n",
    "    for key in dictionary.keys():\n",
    "        if key not in keys1: # check for duplicates\n",
    "            keys1.append(key)\n",
    "\n",
    "print(\"KEYS 1: \" + str(keys1) + \"\\n\")\n",
    "\n",
    "# Your variables here are:\n",
    "## \"keys2\": a list of keys for the second set of statuses\n",
    "## \"lst_2\": a list of _json dictionary objects\n",
    "keys2 = []\n",
    "lst_2 = []\n",
    "for status in results2:\n",
    "    dictionary = status._json\n",
    "    lst_2.append(dictionary)\n",
    "    for key in dictionary.keys():\n",
    "        if key not in keys2:\n",
    "            keys2.append(key)\n",
    "            \n",
    "print(\"KEYS 2: \" + str(keys1) + \"\\n\")"
   ]
  },
  {
   "cell_type": "code",
   "execution_count": null,
   "metadata": {
    "collapsed": false
   },
   "outputs": [],
   "source": [
    "# write rows for each dictionary"
   ]
  }
 ],
 "metadata": {
  "kernelspec": {
   "display_name": "Python 3",
   "language": "python",
   "name": "python3"
  },
  "language_info": {
   "codemirror_mode": {
    "name": "ipython",
    "version": 3
   },
   "file_extension": ".py",
   "mimetype": "text/x-python",
   "name": "python",
   "nbconvert_exporter": "python",
   "pygments_lexer": "ipython3",
   "version": "3.4.5"
  }
 },
 "nbformat": 4,
 "nbformat_minor": 0
}
