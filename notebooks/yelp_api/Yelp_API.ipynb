{
 "cells": [
  {
   "cell_type": "markdown",
   "metadata": {},
   "source": [
    "# Yelp! API"
   ]
  },
  {
   "cell_type": "markdown",
   "metadata": {},
   "source": [
    "Today we will be learning about APIs, and how we can query online databases using an API. We will use the Yelp API as a prototype."
   ]
  },
  {
   "cell_type": "markdown",
   "metadata": {},
   "source": [
    "![Yelp pic](yelp_pic.png \"Logo Title Text 1\")"
   ]
  },
  {
   "cell_type": "markdown",
   "metadata": {},
   "source": [
    "### Getting a Yelp API key"
   ]
  },
  {
   "cell_type": "markdown",
   "metadata": {},
   "source": [
    "In order to be able to access the Yelp API, you will need a Yelp account. Once you have made an account or signed in, visit the following URL: https://www.yelp.com/developers/v2/manage_api_keys\n",
    "\n",
    "Here, you will want to request/generate a token. If you don't have a personal website (neither do we), feel free to use our class website: http://python.berkeley.edu/\n",
    "\n",
    "Also, if you don't have an account and are opposed to making one, you may use our key (but be warned: we might overload it with requests):\n",
    "\n",
    "**Consumer Key:** svEuWaix6y1ZWYgK6VuACw\n",
    "\n",
    "**Consumer Secret:** JtmgKOl5lHs1y6dDwSnfngOkQH8\n",
    "\n",
    "**Token:** SIPDKngfiE-4QZt6p5O1E9WBywkG5E5_\n",
    "\n",
    "**Token Secret:** kO65IODyFH2oX2pYFgGKsB9moxQ"
   ]
  },
  {
   "cell_type": "markdown",
   "metadata": {},
   "source": [
    "### Importing required libraries"
   ]
  },
  {
   "cell_type": "markdown",
   "metadata": {},
   "source": [
    "Python's `requests` library allows us to make GET requests in a Python script. It is self-described as the \"HTTP for Humans\" library, so seems right up our alley. We will use `GET` requests to fetch data from Yelp.\n",
    "\n",
    "Take a minute to check out the `requests` documentation: http://docs.python-requests.org/en/master/"
   ]
  },
  {
   "cell_type": "code",
   "execution_count": null,
   "metadata": {
    "collapsed": false
   },
   "outputs": [],
   "source": [
    "# Import required libraries\n",
    "import requests\n",
    "import json\n",
    "import rauth\n",
    "import numpy as np\n",
    "import csv"
   ]
  },
  {
   "cell_type": "markdown",
   "metadata": {},
   "source": [
    "### Starting an authenticated session\n",
    "\n",
    "In order for us to authenticate with the Yelp API, we will be using a third-party system built on top of the requests library, called `rauth`. If you run the following command, it will download the rauth library to your computer."
   ]
  },
  {
   "cell_type": "code",
   "execution_count": null,
   "metadata": {
    "collapsed": false
   },
   "outputs": [],
   "source": [
    "!pip install rauth"
   ]
  },
  {
   "cell_type": "markdown",
   "metadata": {},
   "source": [
    "Now, use the keys and tokens acquired above to begin a session with Yelp. Plug in your tokens below:"
   ]
  },
  {
   "cell_type": "code",
   "execution_count": null,
   "metadata": {
    "collapsed": false
   },
   "outputs": [],
   "source": [
    "consumer_key = \"svEuWaix6y1ZWYgK6VuACw\"\n",
    "consumer_secret = \"JtmgKOl5lHs1y6dDwSnfngOkQH8\"\n",
    "token = \"SIPDKngfiE-4QZt6p5O1E9WBywkG5E5_\"\n",
    "token_secret = \"kO65IODyFH2oX2pYFgGKsB9moxQ\"\n",
    "\n",
    "session = rauth.OAuth1Session(\n",
    "    consumer_key = consumer_key,\n",
    "    consumer_secret = consumer_secret,\n",
    "    access_token = token,\n",
    "    access_token_secret = token_secret)"
   ]
  },
  {
   "cell_type": "markdown",
   "metadata": {
    "collapsed": false
   },
   "source": [
    "### Constructing API GET Request\n",
    "\n",
    "In the first place, we know that every call will require us to provide a base URL for the API. Let's store this as a variable."
   ]
  },
  {
   "cell_type": "code",
   "execution_count": null,
   "metadata": {
    "collapsed": false
   },
   "outputs": [],
   "source": [
    "# set base url\n",
    "base_url=\"https://api.yelp.com/v2/search\""
   ]
  },
  {
   "cell_type": "markdown",
   "metadata": {},
   "source": [
    "You often want to send some sort of data in the URL’s query string. This data tells the API what information you want. In our case, we want restaurants that sell boba. The requests library allows you to provide these arguments as a dictionary. \n",
    "\n",
    "We will pass in this dictionary using the params keyword argument. The search term parameter options can be found [here](https://www.yelp.com/developers/documentation/v2/search_api). We will enter a location and term to start."
   ]
  },
  {
   "cell_type": "code",
   "execution_count": null,
   "metadata": {
    "collapsed": false
   },
   "outputs": [],
   "source": [
    "# set search parameters\n",
    "search_params = {\"term\":\"boba\",\n",
    "                 \"location\": \"Berkeley\"}"
   ]
  },
  {
   "cell_type": "markdown",
   "metadata": {},
   "source": [
    "Now we will make a get request using our authenticated session."
   ]
  },
  {
   "cell_type": "code",
   "execution_count": null,
   "metadata": {
    "collapsed": false
   },
   "outputs": [],
   "source": [
    "request = session.get(base_url,params=search_params)"
   ]
  },
  {
   "cell_type": "markdown",
   "metadata": {},
   "source": [
    "This request object has various attributes, including a URL that is associated with the output of the call. If we visit the URL printed below, we will see what looks like a massive Python dictionary. This is a JSON-formatted string.\n",
    "\n",
    "(More info on JSON [here](http://www.json.org/))"
   ]
  },
  {
   "cell_type": "code",
   "execution_count": null,
   "metadata": {
    "collapsed": false
   },
   "outputs": [],
   "source": [
    "print(request.url)"
   ]
  },
  {
   "cell_type": "markdown",
   "metadata": {},
   "source": [
    "Finally, we will view the output data, which should be in JSON format. Now, please visit the [JSON Pretty Print site](http://jsonprettyprint.com/). Copy the output and paste it into the site, so that the dictionary can be viewed more clearly. "
   ]
  },
  {
   "cell_type": "code",
   "execution_count": null,
   "metadata": {
    "collapsed": false
   },
   "outputs": [],
   "source": [
    "output = request.text\n",
    "print(output)"
   ]
  },
  {
   "cell_type": "markdown",
   "metadata": {},
   "source": [
    "Take a few minutes to check out the JSON string. Now we will transform that JSON object into a Python dictionary using the Python JSON library."
   ]
  },
  {
   "cell_type": "code",
   "execution_count": null,
   "metadata": {
    "collapsed": false
   },
   "outputs": [],
   "source": [
    "output_dict = json.loads(output)\n",
    "print(output_dict.keys())"
   ]
  },
  {
   "cell_type": "markdown",
   "metadata": {},
   "source": [
    "Now that we have a Python dictionary, take a few minutes to play around with it. Some example exercises are to print the size of the dictionary, or print the values associated with its keys. How many businesses did our query return?"
   ]
  },
  {
   "cell_type": "code",
   "execution_count": null,
   "metadata": {
    "collapsed": false
   },
   "outputs": [],
   "source": [
    "# Have some fun!"
   ]
  },
  {
   "cell_type": "markdown",
   "metadata": {},
   "source": [
    "Finally, we want to incorporate some of our knowledge from previous weeks. First, we will take the average rating over each of the businesses in this output."
   ]
  },
  {
   "cell_type": "code",
   "execution_count": null,
   "metadata": {
    "collapsed": false
   },
   "outputs": [],
   "source": [
    "# Try it!"
   ]
  },
  {
   "cell_type": "markdown",
   "metadata": {},
   "source": [
    "Now, we will write the info for each of the business dictionaries to a CSV file."
   ]
  },
  {
   "cell_type": "code",
   "execution_count": null,
   "metadata": {
    "collapsed": false
   },
   "outputs": [],
   "source": [
    "# Try it!"
   ]
  }
 ],
 "metadata": {
  "kernelspec": {
   "display_name": "Python 3",
   "language": "python",
   "name": "python3"
  },
  "language_info": {
   "codemirror_mode": {
    "name": "ipython",
    "version": 3
   },
   "file_extension": ".py",
   "mimetype": "text/x-python",
   "name": "python",
   "nbconvert_exporter": "python",
   "pygments_lexer": "ipython3",
   "version": "3.4.5"
  }
 },
 "nbformat": 4,
 "nbformat_minor": 0
}
