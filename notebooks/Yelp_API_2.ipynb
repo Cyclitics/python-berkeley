{
 "cells": [
  {
   "cell_type": "code",
   "execution_count": 1,
   "metadata": {
    "collapsed": true
   },
   "outputs": [],
   "source": [
    "state_capitals={\"Washington\":\"Olympia\",\"Oregon\":\"Salem\",\\\n",
    "                    \"California\":\"Sacramento\",\"Ohio\":\"Columbus\",\\\n",
    "                    \"Nebraska\":\"Lincoln\",\"Colorado\":\"Denver\",\\\n",
    "                    \"Michigan\":\"Lansing\",\"Massachusetts\":\"Boston\",\\\n",
    "                    \"Florida\":\"Tallahassee\",\"Texas\":\"Austin\",\\\n",
    "                    \"Oklahoma\":\"Oklahoma City\",\"Hawaii\":\"Honolulu\",\\\n",
    "                    \"Alaska\":\"Juneau\",\"Utah\":\"Salt Lake City\",\\\n",
    "                    \"New Mexico\":\"Santa Fe\",\"North Dakota\":\"Bismarck\",\\\n",
    "                    \"South Dakota\":\"Pierre\",\"West Virginia\":\"Charleston\",\\\n",
    "                    \"Virginia\":\"Richmond\",\"New Jersey\":\"Trenton\",\\\n",
    "                    \"Minnesota\":\"Saint Paul\",\"Illinois\":\"Springfield\",\\\n",
    "                    \"Indiana\":\"Indianapolis\",\"Kentucky\":\"Frankfort\",\\\n",
    "                    \"Tennessee\":\"Nashville\",\"Georgia\":\"Atlanta\",\\\n",
    "                    \"Alabama\":\"Montgomery\",\"Mississippi\":\"Jackson\",\\\n",
    "                    \"North Carolina\":\"Raleigh\",\"South Carolina\":\"Columbia\",\\\n",
    "                    \"Maine\":\"Augusta\",\"Vermont\":\"Montpelier\",\\\n",
    "                    \"New Hampshire\":\"Concord\",\"Connecticut\":\"Hartford\",\\\n",
    "                    \"Rhode Island\":\"Providence\",\"Wyoming\":\"Cheyenne\",\\\n",
    "                    \"Montana\":\"Helena\",\"Kansas\":\"Topeka\",\\\n",
    "                    \"Iowa\":\"Des Moines\",\"Pennsylvania\":\"Harrisburg\",\\\n",
    "                    \"Maryland\":\"Annapolis\",\"Missouri\":\"Jefferson City\",\\\n",
    "                    \"Arizona\":\"Phoenix\",\"Nevada\":\"Carson City\",\\\n",
    "                    \"New York\":\"Albany\",\"Wisconsin\":\"Madison\",\\\n",
    "                    \"Delaware\":\"Dover\",\"Idaho\":\"Boise\",\\\n",
    "                    \"Arkansas\":\"Little Rock\",\"Louisiana\":\"Baton Rouge\"}"
   ]
  },
  {
   "cell_type": "code",
   "execution_count": null,
   "metadata": {
    "collapsed": true
   },
   "outputs": [],
   "source": []
  }
 ],
 "metadata": {
  "kernelspec": {
   "display_name": "Python 3",
   "language": "python",
   "name": "python3"
  },
  "language_info": {
   "codemirror_mode": {
    "name": "ipython",
    "version": 3
   },
   "file_extension": ".py",
   "mimetype": "text/x-python",
   "name": "python",
   "nbconvert_exporter": "python",
   "pygments_lexer": "ipython3",
   "version": "3.4.5"
  }
 },
 "nbformat": 4,
 "nbformat_minor": 0
}
