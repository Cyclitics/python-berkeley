{
 "cells": [
  {
   "cell_type": "markdown",
   "metadata": {},
   "source": [
    "# Python Development Overview\n",
    "### Getting familiar with IPython Notebook"
   ]
  },
  {
   "cell_type": "markdown",
   "metadata": {},
   "source": [
    "Welcome to Python Practice! Today we will learn about IPython in the Jupyter Notebook. Jupyter notebooks are interactive documents that allow you to run code alongside text elements and figures like graphs or charts. This provides a nice environment for projects that require integration of code with text and visualizations, and you'll find that it's pretty easy to use."
   ]
  },
  {
   "cell_type": "markdown",
   "metadata": {},
   "source": [
    "Notebooks are split into sections called \"cells\" that can contain either text or code. This is a text cell, and if you double click *here* you'll see that you can edit the text. The text is formatted to look nice in a markup language called Markdown. To format this text cell again, press `Shift` + `Enter`."
   ]
  },
  {
   "cell_type": "code",
   "execution_count": 1,
   "metadata": {
    "collapsed": false
   },
   "outputs": [
    {
     "name": "stdout",
     "output_type": "stream",
     "text": [
      "I am a code cell!\n"
     ]
    }
   ],
   "source": [
    "\"\"\"\n",
    "This is a code cell. You'll notice that unlike text cells, this box is\n",
    "colored in grey and says 'In []' to the left of it.\n",
    "\n",
    "To run code within a code cell, press either Shift + Enter or the play \n",
    "button in the toolbar above. If you run this code cell, you'll see that \n",
    "the output is printed below.\n",
    "\"\"\"\n",
    "\n",
    "print(\"I am a code cell!\")"
   ]
  },
  {
   "cell_type": "markdown",
   "metadata": {},
   "source": [
    "You can also insert and delete cells wherever you'd like. Try inserting a new text cell by clicking:\n",
    "\n",
    "`Insert -> Insert Cell Below`\n",
    "\n",
    "Now try changing the cell type from code to text by clicking:\n",
    "\n",
    "`Cell -> Cell Type -> Markdown`."
   ]
  },
  {
   "cell_type": "markdown",
   "metadata": {},
   "source": [
    "To save any changes you make to the notebook, click `File -> Save and Checkpoint`."
   ]
  },
  {
   "cell_type": "markdown",
   "metadata": {},
   "source": [
    "### Python Overview\n",
    "\n",
    "In the Python Practice working group, we're assuming knowledge of programming fundamentals and basic familiarity with Python including its syntax, data types, and some exposure to object-oriented programming. Today we'll provide a brief review of Python fundamentals, but in future meetings we'll be covering topics that go beyond the basics.\n",
    "\n",
    "The class will be structured around projects, all focused on real-world applications of Python for data analysis. If you are interested in learning Python basics, we'd recommend you check out our [Python Fundamentals](http://dlab.berkeley.edu/training?body_value=&field_keyword_tid=425) workshop series, or check out our [old review materials](http://python.berkeley.edu/past/)."
   ]
  },
  {
   "cell_type": "markdown",
   "metadata": {},
   "source": [
    "Today's notebook will cover the following subjects:\n",
    "* Basic data types (plus a couple fun ones)\n",
    "* Control flow\n",
    "* Loops\n",
    "* Basic function syntax"
   ]
  },
  {
   "cell_type": "markdown",
   "metadata": {},
   "source": [
    "### Data Types"
   ]
  },
  {
   "cell_type": "markdown",
   "metadata": {},
   "source": [
    "#### Integers and floats\n",
    "Unlike languages like C or Java, Python uses \"duck typing,\" which means that if a variable looks like a certain type, Python will interpret it as such. If you run the code cell below, you'll see that even though `a` and `b` are integers, the result is a float because Python peforms this conversion in the background."
   ]
  },
  {
   "cell_type": "code",
   "execution_count": 2,
   "metadata": {
    "collapsed": false
   },
   "outputs": [
    {
     "name": "stdout",
     "output_type": "stream",
     "text": [
      "3.3333333333333335\n"
     ]
    }
   ],
   "source": [
    "a = 10\n",
    "b = 3\n",
    "c = a/b\n",
    "print(c)"
   ]
  },
  {
   "cell_type": "markdown",
   "metadata": {},
   "source": [
    "#### Booleans\n",
    "In Python, everything is an object. This means that everything in a Python script, including functions, lists, and integer literals, has attributes and can function like an object. This also means that everything in Python has a boolean attribute of either `True` or `False`. \n",
    "\n",
    "The values `None` and `False`, along with zeros of any numeric type, empty sequences, and empty dictionaries, are `False`. All other values are `True`. Some examples below:"
   ]
  },
  {
   "cell_type": "code",
   "execution_count": 3,
   "metadata": {
    "collapsed": false
   },
   "outputs": [
    {
     "data": {
      "text/plain": [
       "True"
      ]
     },
     "execution_count": 3,
     "metadata": {},
     "output_type": "execute_result"
    }
   ],
   "source": [
    "True or False"
   ]
  },
  {
   "cell_type": "code",
   "execution_count": 4,
   "metadata": {
    "collapsed": false
   },
   "outputs": [
    {
     "data": {
      "text/plain": [
       "False"
      ]
     },
     "execution_count": 4,
     "metadata": {},
     "output_type": "execute_result"
    }
   ],
   "source": [
    "w = (3 and 0)\n",
    "w == True"
   ]
  },
  {
   "cell_type": "code",
   "execution_count": 5,
   "metadata": {
    "collapsed": false
   },
   "outputs": [
    {
     "data": {
      "text/plain": [
       "False"
      ]
     },
     "execution_count": 5,
     "metadata": {},
     "output_type": "execute_result"
    }
   ],
   "source": [
    "x = ([] and 5)\n",
    "x == True"
   ]
  },
  {
   "cell_type": "code",
   "execution_count": 6,
   "metadata": {
    "collapsed": false
   },
   "outputs": [
    {
     "data": {
      "text/plain": [
       "False"
      ]
     },
     "execution_count": 6,
     "metadata": {},
     "output_type": "execute_result"
    }
   ],
   "source": [
    "y = (1.1 and [1, 2, 3])\n",
    "y == True"
   ]
  },
  {
   "cell_type": "code",
   "execution_count": 7,
   "metadata": {
    "collapsed": false
   },
   "outputs": [
    {
     "data": {
      "text/plain": [
       "False"
      ]
     },
     "execution_count": 7,
     "metadata": {},
     "output_type": "execute_result"
    }
   ],
   "source": [
    "z = (None or 0.0)\n",
    "z == True"
   ]
  },
  {
   "cell_type": "markdown",
   "metadata": {},
   "source": [
    "#### Lists and Tuples\n",
    "Lists and tuples are ordered sequences of items that essentially serve the same function, with the exception that tuples can't be modified after they've been created. They aren't limited to containing one type of element, so one list or tuple can hold any variety of objects."
   ]
  },
  {
   "cell_type": "code",
   "execution_count": null,
   "metadata": {
    "collapsed": true
   },
   "outputs": [],
   "source": [
    "same_type = [2, 4, 6, 8, 10]\n",
    "different_types = ['a', 1, True, None]"
   ]
  },
  {
   "cell_type": "markdown",
   "metadata": {},
   "source": [
    "Lists are zero-indexed and can be sliced in many different ways:"
   ]
  },
  {
   "cell_type": "code",
   "execution_count": 8,
   "metadata": {
    "collapsed": false
   },
   "outputs": [
    {
     "name": "stdout",
     "output_type": "stream",
     "text": [
      "1\n"
     ]
    }
   ],
   "source": [
    "lst = [1, 2, 3, 4, 5, 6, 7, 8, 9, 10]\n",
    "# Selecting the first item\n",
    "print(lst[0])"
   ]
  },
  {
   "cell_type": "code",
   "execution_count": 9,
   "metadata": {
    "collapsed": false
   },
   "outputs": [
    {
     "name": "stdout",
     "output_type": "stream",
     "text": [
      "9\n"
     ]
    }
   ],
   "source": [
    "# Selecting the second-to-last item\n",
    "print(lst[-2])"
   ]
  },
  {
   "cell_type": "code",
   "execution_count": 10,
   "metadata": {
    "collapsed": false
   },
   "outputs": [
    {
     "name": "stdout",
     "output_type": "stream",
     "text": [
      "[4, 5, 6, 7, 8, 9, 10]\n"
     ]
    }
   ],
   "source": [
    "# Selecting all items after the third\n",
    "print(lst[3:])"
   ]
  },
  {
   "cell_type": "code",
   "execution_count": 11,
   "metadata": {
    "collapsed": false
   },
   "outputs": [
    {
     "name": "stdout",
     "output_type": "stream",
     "text": [
      "[1, 4, 7, 10]\n"
     ]
    }
   ],
   "source": [
    "# Selecting every third item using an optional \"step\" parameter\n",
    "print(lst[::3])"
   ]
  },
  {
   "cell_type": "code",
   "execution_count": 12,
   "metadata": {
    "collapsed": false
   },
   "outputs": [
    {
     "name": "stdout",
     "output_type": "stream",
     "text": [
      "[10, 9, 8, 7, 6, 5, 4, 3, 2, 1]\n"
     ]
    }
   ],
   "source": [
    "# Reversing the list (and a fun interview trick!)\n",
    "print(lst[::-1])"
   ]
  },
  {
   "cell_type": "markdown",
   "metadata": {},
   "source": [
    "Now you try! Implement a list slice that selects every other item from a list, beginning with the second item and ending with the last."
   ]
  },
  {
   "cell_type": "code",
   "execution_count": 14,
   "metadata": {
    "collapsed": false
   },
   "outputs": [
    {
     "name": "stdout",
     "output_type": "stream",
     "text": [
      "[2, 4, 6, 8, 10]\n"
     ]
    }
   ],
   "source": [
    "new_lst = lst[1::2]\n",
    "print(new_lst)"
   ]
  },
  {
   "cell_type": "markdown",
   "metadata": {},
   "source": [
    "#### Stacks and Queues\n",
    "\n",
    "A [stack](http://www.studytonight.com/data-structures/stack-data-structure) is a type of data structure. Stacks get their name because they have a Last In First Out (LIFO) policy for adding and removing, just as if you were stacking plates or CDs. More specifically, every time an element is added, it goes on the top of the stack. Just as it is only possible to remove the top item from a pile, it is only possible to remove the most recently added item from a stack.\n",
    "\n",
    "A [queue]() is a data structure with a First In First Out (FIFO) removal policy."
   ]
  },
  {
   "cell_type": "markdown",
   "metadata": {},
   "source": [
    "In Python, it's also easy to use lists as stacks:"
   ]
  },
  {
   "cell_type": "code",
   "execution_count": 15,
   "metadata": {
    "collapsed": false
   },
   "outputs": [
    {
     "name": "stdout",
     "output_type": "stream",
     "text": [
      "[2, 4, 8]\n",
      "[2, 4]\n"
     ]
    }
   ],
   "source": [
    "stack = [2, 4, 8, 16]\n",
    "stack.pop()\n",
    "print(stack)\n",
    "stack.pop()\n",
    "print(stack)"
   ]
  },
  {
   "cell_type": "code",
   "execution_count": 16,
   "metadata": {
    "collapsed": false
   },
   "outputs": [
    {
     "name": "stdout",
     "output_type": "stream",
     "text": [
      "[2, 4, 6]\n",
      "[2, 4, 6, 8]\n"
     ]
    }
   ],
   "source": [
    "stack.append(6)\n",
    "print(stack)\n",
    "stack.append(8)\n",
    "print(stack)"
   ]
  },
  {
   "cell_type": "markdown",
   "metadata": {},
   "source": [
    "And also as queues!"
   ]
  },
  {
   "cell_type": "code",
   "execution_count": 17,
   "metadata": {
    "collapsed": false
   },
   "outputs": [
    {
     "data": {
      "text/plain": [
       "'first'"
      ]
     },
     "execution_count": 17,
     "metadata": {},
     "output_type": "execute_result"
    }
   ],
   "source": [
    "from collections import deque\n",
    "queue = deque(['first', 'second', 'third', 'fourth'])\n",
    "queue.popleft()"
   ]
  },
  {
   "cell_type": "code",
   "execution_count": 18,
   "metadata": {
    "collapsed": false
   },
   "outputs": [
    {
     "name": "stdout",
     "output_type": "stream",
     "text": [
      "deque(['second', 'third', 'fourth', 'fifth'])\n"
     ]
    }
   ],
   "source": [
    "queue.append('fifth')\n",
    "print(queue)"
   ]
  },
  {
   "cell_type": "markdown",
   "metadata": {},
   "source": [
    "#### List Comprehension"
   ]
  },
  {
   "cell_type": "markdown",
   "metadata": {},
   "source": [
    "Another handy trick in Python is a list comprehension, which allows you to filter or map a function over every element in a list.\n",
    "\n",
    "The format for a list comprehension is as follows:\n",
    "\n",
    "Take in some list `lst1` and apply some function or filter f(x) over its elements, returning a new list `lst2`.\n",
    "\n",
    "`lst2 = [f(x) for x in lst1]`"
   ]
  },
  {
   "cell_type": "code",
   "execution_count": 19,
   "metadata": {
    "collapsed": false
   },
   "outputs": [
    {
     "name": "stdout",
     "output_type": "stream",
     "text": [
      "[2, 4, 6, 8, 10, 12, 14, 16, 18, 20]\n"
     ]
    }
   ],
   "source": [
    "lst = [1, 2, 3, 4, 5, 6, 7, 8, 9, 10]\n",
    "doubled = [x*2 for x in lst]\n",
    "print(doubled)"
   ]
  },
  {
   "cell_type": "code",
   "execution_count": 20,
   "metadata": {
    "collapsed": false
   },
   "outputs": [
    {
     "name": "stdout",
     "output_type": "stream",
     "text": [
      "[2, 4, 6, 8, 10]\n"
     ]
    }
   ],
   "source": [
    "evens = [y for y in lst if y%2 == 0]\n",
    "print(evens)"
   ]
  },
  {
   "cell_type": "code",
   "execution_count": 21,
   "metadata": {
    "collapsed": false
   },
   "outputs": [
    {
     "name": "stdout",
     "output_type": "stream",
     "text": [
      "[6, 8, 10, 12, 14]\n"
     ]
    }
   ],
   "source": [
    "odds_plus_five = [z + 5 for z in lst if z%2 == 1]\n",
    "print(odds_plus_five)"
   ]
  },
  {
   "cell_type": "markdown",
   "metadata": {},
   "source": [
    "Write your own list comprehension that doubles any multiples of 3 from a list."
   ]
  },
  {
   "cell_type": "code",
   "execution_count": 23,
   "metadata": {
    "collapsed": false
   },
   "outputs": [
    {
     "name": "stdout",
     "output_type": "stream",
     "text": [
      "[6, 12, 18]\n"
     ]
    }
   ],
   "source": [
    "# Fill me in!\n",
    "doubled_thirds = [y*2 for y in lst if y%3==0]\n",
    "print(doubled_thirds)"
   ]
  },
  {
   "cell_type": "markdown",
   "metadata": {},
   "source": [
    "#### Strings\n",
    "A [string](https://docs.python.org/2/library/string.html) is a sequence of characters that is indexed much like a list:"
   ]
  },
  {
   "cell_type": "code",
   "execution_count": 24,
   "metadata": {
    "collapsed": false
   },
   "outputs": [
    {
     "name": "stdout",
     "output_type": "stream",
     "text": [
      "Python\n",
      "Java\n"
     ]
    }
   ],
   "source": [
    "sentence = \"Python is cooler than Java\"\n",
    "print(sentence[:6])\n",
    "print(sentence[-4:])"
   ]
  },
  {
   "cell_type": "markdown",
   "metadata": {},
   "source": [
    "Strings can also easily be concatenated with a `+`. Try making a variable called `my_name`:"
   ]
  },
  {
   "cell_type": "code",
   "execution_count": 25,
   "metadata": {
    "collapsed": false
   },
   "outputs": [
    {
     "name": "stdout",
     "output_type": "stream",
     "text": [
      "My name is Liza\n"
     ]
    }
   ],
   "source": [
    "your_name = \"Liza\"\n",
    "print(\"My name is \" + your_name)"
   ]
  },
  {
   "cell_type": "markdown",
   "metadata": {},
   "source": [
    "You can also format strings to insert replacement text with positional arguments:"
   ]
  },
  {
   "cell_type": "code",
   "execution_count": 27,
   "metadata": {
    "collapsed": false
   },
   "outputs": [
    {
     "name": "stdout",
     "output_type": "stream",
     "text": [
      "Hi! My names is Liza and my favorite color is blue.\n"
     ]
    }
   ],
   "source": [
    "your_favorite_color = \"blue\"\n",
    "sentence = \"Hi! My names is {0} and my favorite color is {1}.\".format(your_name, your_favorite_color)\n",
    "print(sentence)"
   ]
  },
  {
   "cell_type": "markdown",
   "metadata": {},
   "source": [
    "One useful trick in handling strings is the `split` function, which takes in a string, splits it on some delimiter, and returns a list of subparts. For example, if we wanted to split a sentence into individual words, we could split on the spaces."
   ]
  },
  {
   "cell_type": "code",
   "execution_count": 28,
   "metadata": {
    "collapsed": false
   },
   "outputs": [
    {
     "name": "stdout",
     "output_type": "stream",
     "text": [
      "4\n"
     ]
    }
   ],
   "source": [
    "sentence = \"This is a sentence\"\n",
    "words = sentence.split(' ')\n",
    "print(len(words))"
   ]
  },
  {
   "cell_type": "markdown",
   "metadata": {},
   "source": [
    "Another built-in Python function that can be useful is `replace`, which takes in a string and replaces some character with another character. Here is an example:"
   ]
  },
  {
   "cell_type": "code",
   "execution_count": 29,
   "metadata": {
    "collapsed": false
   },
   "outputs": [
    {
     "name": "stdout",
     "output_type": "stream",
     "text": [
      "I live in Ventura.\n",
      "Since I moved, I live in Berkeley.\n"
     ]
    }
   ],
   "source": [
    "hometown = \"Ventura\"\n",
    "sentence = \"I live in {0}.\".format(hometown)\n",
    "print(sentence)\n",
    "\n",
    "new_town = \"Berkeley\"\n",
    "new_sentence = \"Since I moved, \" + sentence.replace(hometown, new_town)\n",
    "print(new_sentence)"
   ]
  },
  {
   "cell_type": "markdown",
   "metadata": {},
   "source": [
    "Practice using the above string functions to manipulate the following sentence in the following ways:"
   ]
  },
  {
   "cell_type": "code",
   "execution_count": 31,
   "metadata": {
    "collapsed": false
   },
   "outputs": [
    {
     "name": "stdout",
     "output_type": "stream",
     "text": [
      "4.333333333333333\n"
     ]
    }
   ],
   "source": [
    "# Take in a sentence and replace all its vowels with the letter 'z'.\n",
    "sentence = \"This is a sentence with lots of vowels.\"\n",
    "\n",
    "# CHALLENGE: Take in a sentence and calculate the average word length.\n",
    "sentence = \"This is a sentence with words of varied length.\"\n",
    "words = sentence.split(' ')\n",
    "num_words = len(words)\n",
    "word_lens = 0\n",
    "for word in words:\n",
    "    word_lens += len(word)\n",
    "avg = word_lens / num_words\n",
    "print(avg)"
   ]
  },
  {
   "cell_type": "markdown",
   "metadata": {},
   "source": [
    "#### Dictionaries\n",
    "A dictionary is a set of key-value mappings. Keys need to be unique within a dictionary, and can be any immutable type (i.e. can't be lists):"
   ]
  },
  {
   "cell_type": "code",
   "execution_count": 32,
   "metadata": {
    "collapsed": false
   },
   "outputs": [
    {
     "name": "stdout",
     "output_type": "stream",
     "text": [
      "1.03\n"
     ]
    }
   ],
   "source": [
    "produce_prices = {'bananas': .99, 'grapefruit': 1.03, 'kiwi': .57,\n",
    "                  'eggplant': 1.50, 'avocado': 1.00}\n",
    "print(produce_prices['grapefruit'])"
   ]
  },
  {
   "cell_type": "markdown",
   "metadata": {},
   "source": [
    "You can add, remove, and change the mapping of keys:"
   ]
  },
  {
   "cell_type": "code",
   "execution_count": 33,
   "metadata": {
    "collapsed": false
   },
   "outputs": [
    {
     "name": "stdout",
     "output_type": "stream",
     "text": [
      "{'grapefruit': 1.03, 'avocado': 1.2, 'celery': 2.99, 'eggplant': 1.5, 'bananas': 0.99}\n"
     ]
    }
   ],
   "source": [
    "produce_prices['celery'] = 2.99\n",
    "del produce_prices['kiwi']\n",
    "produce_prices['avocado'] = 1.20\n",
    "print(produce_prices)"
   ]
  },
  {
   "cell_type": "markdown",
   "metadata": {},
   "source": [
    "### Control flow"
   ]
  },
  {
   "cell_type": "markdown",
   "metadata": {},
   "source": [
    "When writing code, we need to establish a very clear set of instructions to follow in order for our program to work properly. We might want our program to act according to the value of some condition. A simple real-life example of this would be \"pour water into the glass while it is not full.\"\n",
    "\n",
    "Similarly, we might have a condition that determines between two actions or operations at any given time. For example, \"if I'm running late, I should walk faster; otherwise, I can relax.\""
   ]
  },
  {
   "cell_type": "markdown",
   "metadata": {},
   "source": [
    "In Python, these conditional statements take the form of \"`if` / `else`\" statements.\n",
    "\n",
    "Aside from \"`if`\" and \"`else`\", there is one more case, called \"`elif`.\" This is short for \"`else if`.\" `elif` is useful when you want to check that multiple conditions are true (or untrue) before you end up at your default `else` case.  \n",
    "\n",
    "Here is some sample code to demonstrate this idea."
   ]
  },
  {
   "cell_type": "code",
   "execution_count": 34,
   "metadata": {
    "collapsed": false
   },
   "outputs": [
    {
     "name": "stdout",
     "output_type": "stream",
     "text": [
      "Your number, 4, is less than 5.\n",
      "Your number is 4.\n",
      "Your number, 11, is greater than 5.\n",
      "Your number, 5, is equal to 5.\n"
     ]
    }
   ],
   "source": [
    "\"\"\" The syntax of an if, then statement is as follows:\n",
    "    if (boolean condition):\n",
    "        do something\n",
    "    else:\n",
    "        do something else\n",
    "\"\"\"\n",
    "\n",
    "def compare_to_five(num):\n",
    "    if num < 5:\n",
    "        print(\"Your number, \" + str(num) + \", is less than 5.\")\n",
    "    if num == 4:\n",
    "        print(\"Your number is 4.\")\n",
    "    elif num == 5:\n",
    "        print(\"Your number, \" + str(num) + \", is equal to 5.\")\n",
    "    else:\n",
    "        print(\"Your number, \" + str(num) + \", is greater than 5.\")\n",
    "        \n",
    "compare_to_five(4)\n",
    "compare_to_five(11)\n",
    "compare_to_five(5)"
   ]
  },
  {
   "cell_type": "markdown",
   "metadata": {},
   "source": [
    "### Loops"
   ]
  },
  {
   "cell_type": "markdown",
   "metadata": {},
   "source": [
    "Iterations are useful in programming because it often makes sense to repeat an operation multiple times before completing. Instead of re-writing the code over and over, we can put the repeated portion in a \"loop.\" We can express a number of times to execute the loop, or we can set a condition that must be met in order for the code to stop running.\n",
    "\n",
    "When we want to repeat an operation on items in a list, or when we want to set a specific number of times of execute a loop, we use a `for` loop. To iterate over items in a list, we write `for [item] in [list]:` followed by the body of the loop which contains the operations we want to exectue on each item `item`. The keywords in writing a `for` loop are just `for` and `in`. You can call the `item` anything you'd like, and `list` is the list you're iterating over. Try the code below, which prints ten added to each item in the list. See that in the cell below, `item` refers to the actual item in the list, not the item's index within the list."
   ]
  },
  {
   "cell_type": "code",
   "execution_count": 35,
   "metadata": {
    "collapsed": false
   },
   "outputs": [
    {
     "name": "stdout",
     "output_type": "stream",
     "text": [
      "11\n",
      "12\n",
      "13\n",
      "14\n",
      "15\n"
     ]
    }
   ],
   "source": [
    "lst = [1, 2, 3, 4, 5]\n",
    "for i in lst:\n",
    "    print(i + 10)"
   ]
  },
  {
   "cell_type": "markdown",
   "metadata": {},
   "source": [
    "We can use the `range` function with `for` loops if we want to set a specific number of times we want to run the loop. For example, the for loop below will print a statement five times:"
   ]
  },
  {
   "cell_type": "code",
   "execution_count": 36,
   "metadata": {
    "collapsed": false
   },
   "outputs": [
    {
     "name": "stdout",
     "output_type": "stream",
     "text": [
      "Executing the for loop!\n",
      "Executing the for loop!\n",
      "Executing the for loop!\n",
      "Executing the for loop!\n",
      "Executing the for loop!\n"
     ]
    }
   ],
   "source": [
    "for item in range(1, 6):\n",
    "    print(\"Executing the for loop!\")"
   ]
  },
  {
   "cell_type": "markdown",
   "metadata": {},
   "source": [
    "If we want to have a loop that runs as long as a certain condition is met, we can use a `while` loop. The condition can be any expression with a boolean value (`True` or `False`). The syntax is `while [condition]:` followed by the body of the loop. The condition's value is checked before every execution of the body of the loop. The loop stops executing once the condition is no longer `True`. Try the cell below, which prints `i` as long as `i` is less than or equal to five. Every time the body of the loop runs, `i` is incremented by `1`. `i` eventually reaches `6`, at which the condition is no longer `True` and execution of the loop stops."
   ]
  },
  {
   "cell_type": "code",
   "execution_count": 37,
   "metadata": {
    "collapsed": false
   },
   "outputs": [
    {
     "name": "stdout",
     "output_type": "stream",
     "text": [
      "0\n",
      "1\n",
      "2\n",
      "3\n",
      "4\n",
      "5\n"
     ]
    }
   ],
   "source": [
    "i = 0\n",
    "while i <= 5:\n",
    "    print(i)\n",
    "    i = i + 1"
   ]
  },
  {
   "cell_type": "markdown",
   "metadata": {},
   "source": [
    "You can use `for` and `while` loops within functions, which allows you to write more concise code. You can also use loops within one another. A loop within a loop is called \"nested\" loop. You can nest as many loops as you'd like, and they can be any combination of `for` and `while` loops. See what happens when you run the cell below:"
   ]
  },
  {
   "cell_type": "code",
   "execution_count": 38,
   "metadata": {
    "collapsed": false
   },
   "outputs": [
    {
     "name": "stdout",
     "output_type": "stream",
     "text": [
      "The value of i is: 1\n",
      "The value of j is: 2\n",
      "The sum is: 3\n",
      "\n",
      "The value of i is: 1\n",
      "The value of j is: 4\n",
      "The sum is: 5\n",
      "\n",
      "The value of i is: 1\n",
      "The value of j is: 6\n",
      "The sum is: 7\n",
      "\n",
      "The value of i is: 2\n",
      "The value of j is: 2\n",
      "The sum is: 4\n",
      "\n",
      "The value of i is: 2\n",
      "The value of j is: 4\n",
      "The sum is: 6\n",
      "\n",
      "The value of i is: 2\n",
      "The value of j is: 6\n",
      "The sum is: 8\n",
      "\n",
      "The value of i is: 3\n",
      "The value of j is: 2\n",
      "The sum is: 5\n",
      "\n",
      "The value of i is: 3\n",
      "The value of j is: 4\n",
      "The sum is: 7\n",
      "\n",
      "The value of i is: 3\n",
      "The value of j is: 6\n",
      "The sum is: 9\n",
      "\n"
     ]
    }
   ],
   "source": [
    "for i in range(1,4):\n",
    "    for j in [2, 4, 6]:\n",
    "        print(\"The value of i is: \" + str(i))\n",
    "        print(\"The value of j is: \" + str(j))\n",
    "        print(\"The sum is: \" + str(i + j) + \"\\n\")"
   ]
  },
  {
   "cell_type": "code",
   "execution_count": 42,
   "metadata": {
    "collapsed": false
   },
   "outputs": [
    {
     "name": "stdout",
     "output_type": "stream",
     "text": [
      "5\n"
     ]
    }
   ],
   "source": [
    "x = range(1, 6)\n",
    "print(len(x))"
   ]
  },
  {
   "cell_type": "markdown",
   "metadata": {},
   "source": [
    "### Functions"
   ]
  },
  {
   "cell_type": "markdown",
   "metadata": {},
   "source": [
    "To organize our code more effectively, we can divide it into functions. Functions can take one or more inputs, apply a tranformation to them, and return a value that you can save to use later on in your code. The returned value does not have to be of the same data type as the inputs."
   ]
  },
  {
   "cell_type": "markdown",
   "metadata": {},
   "source": [
    "As a review, the body of the function has to begin on a new, indented line, and can contain as many lines of code as you'd like. This is where you do the actual work of the function; you can use your inputs in any way you'd like to return the value you want. Most functions end with a `return` statement which, as the name implies, returns the output of your function. You can set a variable to the returned value of your function."
   ]
  },
  {
   "cell_type": "markdown",
   "metadata": {},
   "source": [
    "Here is an example of a function for reference:"
   ]
  },
  {
   "cell_type": "code",
   "execution_count": null,
   "metadata": {
    "collapsed": true
   },
   "outputs": [],
   "source": [
    "def add_two_and_five():\n",
    "    two = 2\n",
    "    five = 5\n",
    "    return two + five"
   ]
  }
 ],
 "metadata": {
  "kernelspec": {
   "display_name": "Python 3",
   "language": "python",
   "name": "python3"
  },
  "language_info": {
   "codemirror_mode": {
    "name": "ipython",
    "version": 3
   },
   "file_extension": ".py",
   "mimetype": "text/x-python",
   "name": "python",
   "nbconvert_exporter": "python",
   "pygments_lexer": "ipython3",
   "version": "3.4.5"
  }
 },
 "nbformat": 4,
 "nbformat_minor": 0
}
